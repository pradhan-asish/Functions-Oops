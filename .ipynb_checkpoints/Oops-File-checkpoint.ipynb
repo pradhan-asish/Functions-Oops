{
 "cells": [
  {
   "cell_type": "markdown",
   "id": "24e1d18e",
   "metadata": {},
   "source": [
    "# OOPS concept"
   ]
  },
  {
   "cell_type": "code",
   "execution_count": 2,
   "id": "2cd22fea",
   "metadata": {},
   "outputs": [
    {
     "name": "stdout",
     "output_type": "stream",
     "text": [
      "<class '__main__.Person'>\n"
     ]
    }
   ],
   "source": [
    "#Class\n",
    "class Person:             \n",
    "    pass                    \n",
    "p1 = Person()      # Creating the object 'p1'\n",
    "print(type(p1)  )"
   ]
  },
  {
   "cell_type": "code",
   "execution_count": null,
   "id": "f58578e9",
   "metadata": {},
   "outputs": [],
   "source": []
  }
 ],
 "metadata": {
  "kernelspec": {
   "display_name": "Python 3",
   "language": "python",
   "name": "python3"
  },
  "language_info": {
   "codemirror_mode": {
    "name": "ipython",
    "version": 3
   },
   "file_extension": ".py",
   "mimetype": "text/x-python",
   "name": "python",
   "nbconvert_exporter": "python",
   "pygments_lexer": "ipython3",
   "version": "3.8.8"
  }
 },
 "nbformat": 4,
 "nbformat_minor": 5
}
