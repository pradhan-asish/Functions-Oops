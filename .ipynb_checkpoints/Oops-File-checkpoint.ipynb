{
 "cells": [
  {
   "cell_type": "markdown",
   "id": "4cb785a8",
   "metadata": {},
   "source": [
    "# OOPS concept"
   ]
  },
  {
   "cell_type": "code",
   "execution_count": 2,
   "id": "6f4694a7",
   "metadata": {},
   "outputs": [
    {
     "name": "stdout",
     "output_type": "stream",
     "text": [
      "<class '__main__.Person'>\n"
     ]
    }
   ],
   "source": [
    "#Class\n",
    "class Person:             \n",
    "    pass                    \n",
    "p1 = Person()      # Creating the object 'p1'\n",
    "print(type(p1)  )"
   ]
  },
  {
   "cell_type": "code",
   "execution_count": 3,
   "id": "c8ccdf2a",
   "metadata": {},
   "outputs": [
    {
     "name": "stdout",
     "output_type": "stream",
     "text": [
      "Jack - Simmons\n"
     ]
    }
   ],
   "source": [
    "class Person:\n",
    "    pass\n",
    "p1 = Person()\n",
    "p1.fname = 'Jack'\n",
    "p1.lname = 'Simmons'\n",
    "print(p1.fname, '-', p1.lname)  # -> 'Jack - Simmons'"
   ]
  },
  {
   "cell_type": "code",
   "execution_count": 6,
   "id": "035f0e27",
   "metadata": {},
   "outputs": [],
   "source": [
    "class Person:\n",
    "    'Represents a person.'\n",
    "    def __init__(self, fname, lname):\n",
    "        'Initialises two attributes of a person.'\n",
    "        self.fname = fname\n",
    "        self.lname = lname"
   ]
  },
  {
   "cell_type": "code",
   "execution_count": null,
   "id": "093088d5",
   "metadata": {},
   "outputs": [],
   "source": []
  }
 ],
 "metadata": {
  "kernelspec": {
   "display_name": "Python 3",
   "language": "python",
   "name": "python3"
  },
  "language_info": {
   "codemirror_mode": {
    "name": "ipython",
    "version": 3
   },
   "file_extension": ".py",
   "mimetype": "text/x-python",
   "name": "python",
   "nbconvert_exporter": "python",
   "pygments_lexer": "ipython3",
   "version": "3.8.8"
  }
 },
 "nbformat": 4,
 "nbformat_minor": 5
}
