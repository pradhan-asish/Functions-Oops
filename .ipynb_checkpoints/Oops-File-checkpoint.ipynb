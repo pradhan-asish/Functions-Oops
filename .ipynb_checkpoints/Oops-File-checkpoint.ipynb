{
 "cells": [
  {
   "cell_type": "markdown",
   "id": "5cfb11c7",
   "metadata": {},
   "source": [
    "# OOPS concept"
   ]
  },
  {
   "cell_type": "code",
   "execution_count": 2,
   "id": "5a35d3a3",
   "metadata": {},
   "outputs": [
    {
     "name": "stdout",
     "output_type": "stream",
     "text": [
      "<class '__main__.Person'>\n"
     ]
    }
   ],
   "source": [
    "#Class\n",
    "class Person:             \n",
    "    pass                    \n",
    "p1 = Person()      # Creating the object 'p1'\n",
    "print(type(p1)  )"
   ]
  },
  {
   "cell_type": "code",
   "execution_count": 3,
   "id": "41aa8819",
   "metadata": {},
   "outputs": [
    {
     "name": "stdout",
     "output_type": "stream",
     "text": [
      "Jack - Simmons\n"
     ]
    }
   ],
   "source": [
    "class Person:\n",
    "    pass\n",
    "p1 = Person()\n",
    "p1.fname = 'Jack'\n",
    "p1.lname = 'Simmons'\n",
    "print(p1.fname, '-', p1.lname)  # -> 'Jack - Simmons'"
   ]
  },
  {
   "cell_type": "code",
   "execution_count": 6,
   "id": "b908bd31",
   "metadata": {},
   "outputs": [],
   "source": [
    "class Person:\n",
    "    'Represents a person.'\n",
    "    def __init__(self, fname, lname):\n",
    "        'Initialises two attributes of a person.'\n",
    "        self.fname = fname\n",
    "        self.lname = lname"
   ]
  },
  {
   "cell_type": "markdown",
   "id": "9fb84e9b",
   "metadata": {},
   "source": [
    "# Inheritance"
   ]
  },
  {
   "cell_type": "code",
   "execution_count": 7,
   "id": "5c741eb4",
   "metadata": {},
   "outputs": [],
   "source": [
    "class Person:\n",
    "    def __init__(self, fname, lname):\n",
    "        self.fname = fname\n",
    "        self.lname = lname\n",
    "class Employee(Person):\n",
    "    all_employees = []\n",
    "    def __init__(self, fname, lname, empid):\n",
    "        Person.__init__(self, fname, lname)\n",
    "        self.empid = empid\n",
    "        Employee.all_employees.append(self)"
   ]
  },
  {
   "cell_type": "code",
   "execution_count": 8,
   "id": "d46466d4",
   "metadata": {},
   "outputs": [
    {
     "name": "stdout",
     "output_type": "stream",
     "text": [
      "George - smith\n",
      "Jack - 456342\n",
      "John - 123656\n"
     ]
    }
   ],
   "source": [
    "p1 = Person('George', 'smith')\n",
    "print(p1.fname, '-', p1.lname)\n",
    "e1 = Employee('Jack', 'simmons', 456342)\n",
    "e2 = Employee('John', 'williams', 123656)\n",
    "print(e1.fname, '-', e1.empid)\n",
    "print(e2.fname, '-', e2.empid)"
   ]
  },
  {
   "cell_type": "code",
   "execution_count": null,
   "id": "fe216ba8",
   "metadata": {},
   "outputs": [],
   "source": []
  }
 ],
 "metadata": {
  "kernelspec": {
   "display_name": "Python 3",
   "language": "python",
   "name": "python3"
  },
  "language_info": {
   "codemirror_mode": {
    "name": "ipython",
    "version": 3
   },
   "file_extension": ".py",
   "mimetype": "text/x-python",
   "name": "python",
   "nbconvert_exporter": "python",
   "pygments_lexer": "ipython3",
   "version": "3.8.8"
  }
 },
 "nbformat": 4,
 "nbformat_minor": 5
}
