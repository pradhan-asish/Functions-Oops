{
 "cells": [
  {
   "cell_type": "code",
   "execution_count": 4,
   "id": "23d81878",
   "metadata": {},
   "outputs": [
    {
     "name": "stdout",
     "output_type": "stream",
     "text": [
      "AsishPradhan\n"
     ]
    }
   ],
   "source": [
    "class Employee:\n",
    "    def __init__(self,first,last,pay):\n",
    "        self.first=first\n",
    "        self.last = last\n",
    "        self.pay=pay\n",
    "        self.mail=first+last+'@gmail.com'\n",
    "    def fullname(self):\n",
    "        return self.first+self.last\n",
    "\n",
    "e1 = Employee('Asish','Pradhan',100)\n",
    "print(e1.fullname())"
   ]
  },
  {
   "cell_type": "code",
   "execution_count": 18,
   "id": "bc446427",
   "metadata": {},
   "outputs": [
    {
     "name": "stdout",
     "output_type": "stream",
     "text": [
      "AsishPradhan\n",
      "AsishPradhan - Pradhan\n",
      "DeepakSamanta - Samanta\n",
      "300\n"
     ]
    }
   ],
   "source": [
    "class Employee:\n",
    "    def __init__(self,first,last,pay):\n",
    "        self.first=first\n",
    "        self.last = last\n",
    "        self.pay=pay\n",
    "        self.mail=first+last+'@gmail.com'\n",
    "    def fullname(self):\n",
    "        return self.first+self.last\n",
    "    def __repr__(self):\n",
    "        return \"Employee('{}','{}',{})\".format(self.first,self.last,self.pay)\n",
    "    \n",
    "    def __str__(self):\n",
    "        return '{} - {}'.format(self.fullname(),self.last) \n",
    "    \n",
    "    def __add__(self, other):\n",
    "        return self.pay + other.pay\n",
    "    \n",
    "    \n",
    "    \n",
    "e1 = Employee('Asish','Pradhan',100)\n",
    "e2 = Employee('Deepak','Samanta',200)\n",
    "print(e1.fullname())\n",
    "print(e1)\n",
    "print(e2)\n",
    "print(e1+e2)\n",
    "\n"
   ]
  },
  {
   "cell_type": "code",
   "execution_count": null,
   "id": "bb1b8efe",
   "metadata": {},
   "outputs": [],
   "source": []
  }
 ],
 "metadata": {
  "kernelspec": {
   "display_name": "Python 3",
   "language": "python",
   "name": "python3"
  },
  "language_info": {
   "codemirror_mode": {
    "name": "ipython",
    "version": 3
   },
   "file_extension": ".py",
   "mimetype": "text/x-python",
   "name": "python",
   "nbconvert_exporter": "python",
   "pygments_lexer": "ipython3",
   "version": "3.8.8"
  }
 },
 "nbformat": 4,
 "nbformat_minor": 5
}
