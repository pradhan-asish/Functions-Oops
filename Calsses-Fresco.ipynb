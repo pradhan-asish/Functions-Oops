{
 "cells": [
  {
   "cell_type": "code",
   "execution_count": 4,
   "id": "ace1ed38",
   "metadata": {},
   "outputs": [
    {
     "name": "stdout",
     "output_type": "stream",
     "text": [
      "AsishPradhan\n"
     ]
    }
   ],
   "source": [
    "class Employee:\n",
    "    def __init__(self,first,last,pay):\n",
    "        self.first=first\n",
    "        self.last = last\n",
    "        self.pay=pay\n",
    "        self.mail=first+last+'@gmail.com'\n",
    "    def fullname(self):\n",
    "        return self.first+self.last\n",
    "\n",
    "e1 = Employee('Asish','Pradhan',100)\n",
    "print(e1.fullname())"
   ]
  },
  {
   "cell_type": "code",
   "execution_count": 12,
   "id": "1dcbda3b",
   "metadata": {},
   "outputs": [
    {
     "name": "stdout",
     "output_type": "stream",
     "text": [
      "AsishPradhan\n",
      "AsishPradhan - Pradhan\n"
     ]
    }
   ],
   "source": [
    "class Employee:\n",
    "    def __init__(self,first,last,pay):\n",
    "        self.first=first\n",
    "        self.last = last\n",
    "        self.pay=pay\n",
    "        self.mail=first+last+'@gmail.com'\n",
    "    def fullname(self):\n",
    "        return self.first+self.last\n",
    "    def __repr__(self):\n",
    "        return \"Employee('{}','{}',{})\".format(self.first,self.last,self.pay)\n",
    "    \n",
    "    def __str__(self):\n",
    "        return '{} - {}'.format(self.fullname(),self.last) \n",
    "    \n",
    "    def __add__(self, other):\n",
    "        return self.pay + other.pay\n",
    "    \n",
    "    \n",
    "    \n",
    "e1 = Employee('Asish','Pradhan',100)\n",
    "print(e1.fullname())\n",
    "print(e1)\n",
    "\n"
   ]
  },
  {
   "cell_type": "code",
   "execution_count": null,
   "id": "c88acf3f",
   "metadata": {},
   "outputs": [],
   "source": []
  }
 ],
 "metadata": {
  "kernelspec": {
   "display_name": "Python 3",
   "language": "python",
   "name": "python3"
  },
  "language_info": {
   "codemirror_mode": {
    "name": "ipython",
    "version": 3
   },
   "file_extension": ".py",
   "mimetype": "text/x-python",
   "name": "python",
   "nbconvert_exporter": "python",
   "pygments_lexer": "ipython3",
   "version": "3.8.8"
  }
 },
 "nbformat": 4,
 "nbformat_minor": 5
}
