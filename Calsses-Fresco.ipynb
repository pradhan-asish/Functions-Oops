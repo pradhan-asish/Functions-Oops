{
 "cells": [
  {
   "cell_type": "code",
   "execution_count": 1,
   "id": "23d81878",
   "metadata": {},
   "outputs": [
    {
     "name": "stdout",
     "output_type": "stream",
     "text": [
      "AsishPradhan\n"
     ]
    }
   ],
   "source": [
    "class Employee:\n",
    "    def __init__(self,first,last,pay):\n",
    "        self.first=first\n",
    "        self.last = last\n",
    "        self.pay=pay\n",
    "        self.mail=first+last+'@gmail.com'\n",
    "    def fullname(self):\n",
    "        return self.first+self.last\n",
    "\n",
    "e1 = Employee('Asish','Pradhan',100)\n",
    "print(e1.fullname())"
   ]
  },
  {
   "cell_type": "code",
   "execution_count": 18,
   "id": "bc446427",
   "metadata": {},
   "outputs": [
    {
     "name": "stdout",
     "output_type": "stream",
     "text": [
      "AsishPradhan\n",
      "AsishPradhan - Pradhan\n",
      "DeepakSamanta - Samanta\n",
      "300\n"
     ]
    }
   ],
   "source": [
    "class Employee:\n",
    "    def __init__(self,first,last,pay):\n",
    "        self.first=first\n",
    "        self.last = last\n",
    "        self.pay=pay\n",
    "        self.mail=first+last+'@gmail.com'\n",
    "    def fullname(self):\n",
    "        return self.first+self.last\n",
    "    def __repr__(self):\n",
    "        return \"Employee('{}','{}',{})\".format(self.first,self.last,self.pay)\n",
    "    \n",
    "    def __str__(self):\n",
    "        return '{} - {}'.format(self.fullname(),self.last) \n",
    "    \n",
    "    def __add__(self, other):\n",
    "        return self.pay + other.pay\n",
    "    \n",
    "    \n",
    "    \n",
    "e1 = Employee('Asish','Pradhan',100)\n",
    "e2 = Employee('Deepak','Samanta',200)\n",
    "print(e1.fullname())\n",
    "print(e1)\n",
    "print(e2)\n",
    "print(e1+e2)\n",
    "\n"
   ]
  },
  {
   "cell_type": "code",
   "execution_count": 2,
   "id": "bb1b8efe",
   "metadata": {},
   "outputs": [],
   "source": [
    "class Dog:\n",
    "     \n",
    "    # A simple class\n",
    "    # attribute\n",
    "    attr1 = \"mammal\"\n",
    "    attr2 = \"dog\"\n",
    " \n",
    "    # A sample method \n",
    "    def fun(self):\n",
    "        print(\"I'm a\", self.attr1)\n",
    "        print(\"I'm a\", self.attr2)"
   ]
  },
  {
   "cell_type": "code",
   "execution_count": 3,
   "id": "6cec7f0a",
   "metadata": {},
   "outputs": [],
   "source": [
    "d1 = Dog()\n"
   ]
  },
  {
   "cell_type": "code",
   "execution_count": 4,
   "id": "dda8f3b6",
   "metadata": {},
   "outputs": [
    {
     "name": "stdout",
     "output_type": "stream",
     "text": [
      "I'm a mammal\n",
      "I'm a dog\n",
      "None\n"
     ]
    }
   ],
   "source": [
    "print(d1.fun())"
   ]
  },
  {
   "cell_type": "code",
   "execution_count": 5,
   "id": "21489340",
   "metadata": {},
   "outputs": [
    {
     "name": "stdout",
     "output_type": "stream",
     "text": [
      "Hello, my name is Nikhil\n"
     ]
    }
   ],
   "source": [
    "# A Sample class with init method\n",
    "class Person:\n",
    "   \n",
    "    # init method or constructor \n",
    "    def __init__(self, name):\n",
    "        self.name = name\n",
    "   \n",
    "    # Sample Method \n",
    "    def say_hi(self):\n",
    "        print('Hello, my name is', self.name)\n",
    "   \n",
    "p = Person('Nikhil')\n",
    "p.say_hi()"
   ]
  },
  {
   "cell_type": "code",
   "execution_count": 10,
   "id": "85700c9d",
   "metadata": {},
   "outputs": [
    {
     "name": "stdout",
     "output_type": "stream",
     "text": [
      "Rodger details:\n",
      "Rodger is a dog\n",
      "Breed:  Pug\n",
      "Color:  brown\n",
      "\n",
      "Buzo details:\n",
      "Buzo is a dog\n",
      "Breed:  Bulldog\n",
      "Color:  black\n",
      "\n",
      "Accessing class variable using class name\n",
      "dog\n",
      "Green\n"
     ]
    }
   ],
   "source": [
    "# Python3 program to show that the variables with a value \n",
    "# assigned in the class declaration, are class variables and\n",
    "# variables inside methods and constructors are instance\n",
    "# variables.\n",
    "    \n",
    "# Class for Dog\n",
    "class Dog:\n",
    "   \n",
    "    # Class Variable\n",
    "    animal = 'dog'            \n",
    "   \n",
    "    # The init method or constructor\n",
    "    def __init__(self, breed, color):\n",
    "     \n",
    "        # Instance Variable    \n",
    "        self.breed = breed\n",
    "        self.color = color       \n",
    "   # Adds an instance variable \n",
    "    def setColor(self, color):\n",
    "        self.color = color\n",
    "       \n",
    "    # Retrieves instance variable    \n",
    "    def getColor(self):    \n",
    "        return self.color\n",
    "    \n",
    "# Objects of Dog class\n",
    "Rodger = Dog(\"Pug\", \"brown\")\n",
    "Buzo = Dog(\"Bulldog\", \"black\")\n",
    " \n",
    "print('Rodger details:')  \n",
    "print('Rodger is a', Rodger.animal)\n",
    "print('Breed: ', Rodger.breed)\n",
    "print('Color: ', Rodger.color)\n",
    " \n",
    "print('\\nBuzo details:')  \n",
    "print('Buzo is a', Buzo.animal)\n",
    "print('Breed: ', Buzo.breed)\n",
    "print('Color: ', Buzo.color)\n",
    " \n",
    "# Class variables can be accessed using class\n",
    "# name also\n",
    "print(\"\\nAccessing class variable using class name\")\n",
    "print(Dog.animal)       \n",
    "\n",
    "Rodger.setColor('Green')\n",
    "print(Rodger.getColor())"
   ]
  },
  {
   "cell_type": "code",
   "execution_count": null,
   "id": "75896075",
   "metadata": {},
   "outputs": [],
   "source": []
  }
 ],
 "metadata": {
  "kernelspec": {
   "display_name": "Python 3",
   "language": "python",
   "name": "python3"
  },
  "language_info": {
   "codemirror_mode": {
    "name": "ipython",
    "version": 3
   },
   "file_extension": ".py",
   "mimetype": "text/x-python",
   "name": "python",
   "nbconvert_exporter": "python",
   "pygments_lexer": "ipython3",
   "version": "3.8.8"
  }
 },
 "nbformat": 4,
 "nbformat_minor": 5
}
