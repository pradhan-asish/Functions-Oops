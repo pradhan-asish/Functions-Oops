{
 "cells": [
  {
   "cell_type": "code",
   "execution_count": 15,
   "id": "b317d30c",
   "metadata": {},
   "outputs": [],
   "source": [
    "class Bag:\n",
    "    def __init__(self):\n",
    "        self.data = []\n",
    "\n",
    "    def add(self, x):\n",
    "        self.data.append(x)\n",
    "        print(self.data)\n",
    "\n",
    "    def addtwice(self, x):\n",
    "        self.add(x)\n",
    "        self.add(x)\n",
    "    \n",
    "\n",
    "class DerivedClassName(Bag):   \n",
    "    def addtwice(self, x):\n",
    "        self.add(x)\n",
    "        self.add(x)\n",
    "        print(self.data)\n"
   ]
  },
  {
   "cell_type": "code",
   "execution_count": 16,
   "id": "f1edb1cf",
   "metadata": {},
   "outputs": [],
   "source": [
    "b = Bag()"
   ]
  },
  {
   "cell_type": "code",
   "execution_count": 17,
   "id": "783d8803",
   "metadata": {},
   "outputs": [],
   "source": [
    "d = DerivedClassName()"
   ]
  },
  {
   "cell_type": "code",
   "execution_count": 18,
   "id": "e4a7ea14",
   "metadata": {},
   "outputs": [
    {
     "name": "stdout",
     "output_type": "stream",
     "text": [
      "[4]\n"
     ]
    }
   ],
   "source": [
    "d.add(4)"
   ]
  },
  {
   "cell_type": "code",
   "execution_count": 19,
   "id": "b881a08b",
   "metadata": {},
   "outputs": [
    {
     "name": "stdout",
     "output_type": "stream",
     "text": [
      "[4, 5]\n",
      "[4, 5, 5]\n",
      "[4, 5, 5]\n"
     ]
    }
   ],
   "source": [
    "d.addtwice(5)"
   ]
  },
  {
   "cell_type": "code",
   "execution_count": null,
   "id": "4350e28b",
   "metadata": {},
   "outputs": [],
   "source": []
  }
 ],
 "metadata": {
  "kernelspec": {
   "display_name": "Python 3",
   "language": "python",
   "name": "python3"
  },
  "language_info": {
   "codemirror_mode": {
    "name": "ipython",
    "version": 3
   },
   "file_extension": ".py",
   "mimetype": "text/x-python",
   "name": "python",
   "nbconvert_exporter": "python",
   "pygments_lexer": "ipython3",
   "version": "3.8.8"
  }
 },
 "nbformat": 4,
 "nbformat_minor": 5
}
