{
 "cells": [
  {
   "cell_type": "code",
   "execution_count": 6,
   "id": "0ae72e11",
   "metadata": {},
   "outputs": [],
   "source": [
    "import File1 as File"
   ]
  },
  {
   "cell_type": "code",
   "execution_count": 7,
   "id": "1d7862f4",
   "metadata": {},
   "outputs": [
    {
     "data": {
      "text/plain": [
       "[0, 1, 1, 2, 3, 5, 8]"
      ]
     },
     "execution_count": 7,
     "metadata": {},
     "output_type": "execute_result"
    }
   ],
   "source": [
    "F.fib2(12)"
   ]
  },
  {
   "cell_type": "code",
   "execution_count": 8,
   "id": "fbead58c",
   "metadata": {},
   "outputs": [
    {
     "name": "stdout",
     "output_type": "stream",
     "text": [
      "0 1 1 2 3 5 8 \n"
     ]
    }
   ],
   "source": [
    "F.fib(12)"
   ]
  },
  {
   "cell_type": "code",
   "execution_count": 10,
   "id": "09db8db5",
   "metadata": {},
   "outputs": [],
   "source": [
    "from File1 import fib2 as fb2"
   ]
  },
  {
   "cell_type": "code",
   "execution_count": 11,
   "id": "0ccc9436",
   "metadata": {},
   "outputs": [
    {
     "data": {
      "text/plain": [
       "[0, 1, 1, 2, 3, 5, 8]"
      ]
     },
     "execution_count": 11,
     "metadata": {},
     "output_type": "execute_result"
    }
   ],
   "source": [
    "fb2(10)"
   ]
  },
  {
   "cell_type": "code",
   "execution_count": null,
   "id": "1ab98d85",
   "metadata": {},
   "outputs": [],
   "source": []
  }
 ],
 "metadata": {
  "kernelspec": {
   "display_name": "Python 3",
   "language": "python",
   "name": "python3"
  },
  "language_info": {
   "codemirror_mode": {
    "name": "ipython",
    "version": 3
   },
   "file_extension": ".py",
   "mimetype": "text/x-python",
   "name": "python",
   "nbconvert_exporter": "python",
   "pygments_lexer": "ipython3",
   "version": "3.8.8"
  }
 },
 "nbformat": 4,
 "nbformat_minor": 5
}
