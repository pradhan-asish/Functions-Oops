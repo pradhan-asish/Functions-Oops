{
 "cells": [
  {
   "cell_type": "code",
   "execution_count": 6,
   "id": "281aefaa",
   "metadata": {},
   "outputs": [],
   "source": [
    "import File1 as File"
   ]
  },
  {
   "cell_type": "code",
   "execution_count": 7,
   "id": "5e10cf1d",
   "metadata": {},
   "outputs": [
    {
     "data": {
      "text/plain": [
       "[0, 1, 1, 2, 3, 5, 8]"
      ]
     },
     "execution_count": 7,
     "metadata": {},
     "output_type": "execute_result"
    }
   ],
   "source": [
    "F.fib2(12)"
   ]
  },
  {
   "cell_type": "code",
   "execution_count": 8,
   "id": "638b0be1",
   "metadata": {},
   "outputs": [
    {
     "name": "stdout",
     "output_type": "stream",
     "text": [
      "0 1 1 2 3 5 8 \n"
     ]
    }
   ],
   "source": [
    "F.fib(12)"
   ]
  },
  {
   "cell_type": "code",
   "execution_count": null,
   "id": "106f69fa",
   "metadata": {},
   "outputs": [],
   "source": []
  }
 ],
 "metadata": {
  "kernelspec": {
   "display_name": "Python 3",
   "language": "python",
   "name": "python3"
  },
  "language_info": {
   "codemirror_mode": {
    "name": "ipython",
    "version": 3
   },
   "file_extension": ".py",
   "mimetype": "text/x-python",
   "name": "python",
   "nbconvert_exporter": "python",
   "pygments_lexer": "ipython3",
   "version": "3.8.8"
  }
 },
 "nbformat": 4,
 "nbformat_minor": 5
}
