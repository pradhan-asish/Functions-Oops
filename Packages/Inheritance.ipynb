{
 "cells": [
  {
   "cell_type": "code",
   "execution_count": 32,
   "id": "47508107",
   "metadata": {},
   "outputs": [],
   "source": [
    "class Bag:\n",
    "    def __init__(self):\n",
    "        self.data = []\n",
    "\n",
    "    def add(self, x):\n",
    "        self.data.append(x)\n",
    "        print(self.data)\n",
    "\n",
    "    def addtwice(self, x):\n",
    "        self.add(x)\n",
    "        self.add(x)\n",
    "class Mate:\n",
    "    def __init__(self):\n",
    "        self.data = []\n",
    "\n",
    "    def add1(self, x,y):\n",
    "        self.data.append(x)\n",
    "        self.data.append(y)\n",
    "        print(self.data)\n",
    "\n",
    "    def addtwice(self, x):\n",
    "        self.add(x)\n",
    "        self.add(x)\n",
    "    \n",
    "\n",
    "class DerivedClassName(Bag, Mate):   \n",
    "    def addtwice(self, x):\n",
    "        self.add(x)\n",
    "        self.add(x)\n",
    "        print(self.data)\n"
   ]
  },
  {
   "cell_type": "code",
   "execution_count": 33,
   "id": "b995f1e3",
   "metadata": {},
   "outputs": [],
   "source": [
    "b = Bag()"
   ]
  },
  {
   "cell_type": "code",
   "execution_count": 34,
   "id": "74e28731",
   "metadata": {},
   "outputs": [],
   "source": [
    "d = DerivedClassName()"
   ]
  },
  {
   "cell_type": "code",
   "execution_count": 35,
   "id": "03f51df7",
   "metadata": {},
   "outputs": [
    {
     "name": "stdout",
     "output_type": "stream",
     "text": [
      "[4]\n"
     ]
    }
   ],
   "source": [
    "d.add(4)"
   ]
  },
  {
   "cell_type": "code",
   "execution_count": 36,
   "id": "6e0ea4c5",
   "metadata": {},
   "outputs": [
    {
     "name": "stdout",
     "output_type": "stream",
     "text": [
      "[4, 5]\n",
      "[4, 5, 5]\n",
      "[4, 5, 5]\n"
     ]
    }
   ],
   "source": [
    "d.addtwice(5)"
   ]
  },
  {
   "cell_type": "code",
   "execution_count": 37,
   "id": "e6307b7e",
   "metadata": {},
   "outputs": [
    {
     "name": "stdout",
     "output_type": "stream",
     "text": [
      "[4, 5, 5, 1, 12]\n"
     ]
    }
   ],
   "source": [
    "d.add1(1,12)"
   ]
  },
  {
   "cell_type": "code",
   "execution_count": null,
   "id": "8daa6744",
   "metadata": {},
   "outputs": [],
   "source": []
  }
 ],
 "metadata": {
  "kernelspec": {
   "display_name": "Python 3",
   "language": "python",
   "name": "python3"
  },
  "language_info": {
   "codemirror_mode": {
    "name": "ipython",
    "version": 3
   },
   "file_extension": ".py",
   "mimetype": "text/x-python",
   "name": "python",
   "nbconvert_exporter": "python",
   "pygments_lexer": "ipython3",
   "version": "3.8.8"
  }
 },
 "nbformat": 4,
 "nbformat_minor": 5
}
